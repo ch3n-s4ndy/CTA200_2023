{
 "cells": [
  {
   "cell_type": "code",
   "execution_count": 6,
   "id": "f9e26661",
   "metadata": {},
   "outputs": [],
   "source": [
    "import sympy as sp\n",
    "from matplotlib import pyplot as plt\n",
    "import numpy as np\n",
    "\n",
    "from sympy import init_printing\n",
    "init_printing()"
   ]
  },
  {
   "cell_type": "markdown",
   "id": "d65f9499",
   "metadata": {},
   "source": [
    "# Part 1: Define function f(x) and df(x)"
   ]
  },
  {
   "cell_type": "code",
   "execution_count": 14,
   "id": "f19829b3",
   "metadata": {},
   "outputs": [],
   "source": [
    "def f(x):\n",
    "    \"\"\"\n",
    "    Calculate and return the value of a cubic polynomial for the input x.\n",
    "    \n",
    "    The polynomial expression is: x^3 - x^2 - 1\n",
    "    \n",
    "    Parameters\n",
    "    ----------\n",
    "    x : float\n",
    "        The input value for which the polynomial will be evaluated.\n",
    "        \n",
    "    Returns\n",
    "    -------\n",
    "    float\n",
    "        The result of the cubic polynomial evaluation for the given x value.\n",
    "    \"\"\"\n",
    "    return x**3-x**2-1"
   ]
  },
  {
   "cell_type": "code",
   "execution_count": 49,
   "id": "fc3c3ecf",
   "metadata": {},
   "outputs": [],
   "source": [
    "def df(x):\n",
    "    \"\"\"\n",
    "    Calculate and return the first derivative of the cubic polynomial for the input x.\n",
    "    \n",
    "    The original polynomial expression is: x^3 - x^2 - 1\n",
    "    The first derivative expression is: 3x^2 - 2x\n",
    "    \n",
    "    Parameters\n",
    "    ----------\n",
    "    x : float\n",
    "        The input value for which the first derivative of the polynomial will be evaluated.\n",
    "        \n",
    "    Returns\n",
    "    -------\n",
    "    float\n",
    "        The result of the first derivative evaluation for the given x value.\n",
    "    \"\"\"\n",
    "    return 3*x**2-2*x"
   ]
  },
  {
   "cell_type": "markdown",
   "id": "5600dcda",
   "metadata": {},
   "source": [
    "# Part 2: Define the function to generate Newton iteration"
   ]
  },
  {
   "cell_type": "code",
   "execution_count": 50,
   "id": "2a48cc9d",
   "metadata": {},
   "outputs": [],
   "source": [
    "def newton(f, df, x0, epsilon=10**(-6), max_iter=30):\n",
    "    \"\"\"\n",
    "    Perform a Newton iteration to find the root of a given function f with its derivative df.\n",
    "    \n",
    "    Parameters\n",
    "    ----------\n",
    "    f : callable\n",
    "        The function for which the root needs to be found.\n",
    "    df : callable\n",
    "        The first derivative of the function f.\n",
    "    x0 : float\n",
    "        The initial guess for the root of the function.\n",
    "    epsilon : float, optional, default: 1e-6\n",
    "        The tolerance for the convergence criterion. The iteration will stop when the absolute difference between consecutive\n",
    "        approximations is less than or equal to epsilon.\n",
    "    max_iter : int, optional, default: 30\n",
    "        The maximum number of iterations allowed before stopping the algorithm.\n",
    "        \n",
    "    Returns\n",
    "    -------\n",
    "    float\n",
    "        The approximated root of the function f within the given tolerance epsilon.\n",
    "        \n",
    "    Raises\n",
    "    ------\n",
    "    ValueError\n",
    "        If the maximum number of iterations is reached without converging to the desired tolerance.\n",
    "    \"\"\"\n",
    "    x = x0\n",
    "    iter_num = 1\n",
    "    while iter_num <= max_iter:\n",
    "        if df(x)==0:\n",
    "            print(\"Iteration failed\")\n",
    "            return None\n",
    "        if np.abs(f(x)) < epsilon:\n",
    "            print(\"Found root in \" + str(iter_num) + \" iterations\")\n",
    "            return x\n",
    "        x = x - f(x)/df(x)\n",
    "        iter_num +=1\n",
    "    print(\"Iteration failed\")\n",
    "    return None\n",
    "    "
   ]
  },
  {
   "cell_type": "markdown",
   "id": "991c230b",
   "metadata": {},
   "source": [
    "# Part 3: Test the function "
   ]
  },
  {
   "cell_type": "markdown",
   "id": "3d118a9a",
   "metadata": {},
   "source": [
    "Choose $x_0$ to be -1, 0.04, 2.5, and 1. "
   ]
  },
  {
   "cell_type": "code",
   "execution_count": 47,
   "id": "51d1f642",
   "metadata": {},
   "outputs": [
    {
     "name": "stdout",
     "output_type": "stream",
     "text": [
      "Found root in 16 iterations\n",
      "Found root in 15 iterations\n",
      "Found root in 6 iterations\n",
      "Found root in 6 iterations\n"
     ]
    }
   ],
   "source": [
    "x0_1 = -1\n",
    "x0_2 = 0.04\n",
    "x0_3 = 2.5\n",
    "x0_4 = 1\n",
    "\n",
    "root_1 = newton(f, df, x0_1)\n",
    "root_2 = newton(f, df, x0_2)\n",
    "root_3 = newton(f, df, x0_3)\n",
    "root_4 = newton(f, df, x0_4)"
   ]
  },
  {
   "cell_type": "markdown",
   "id": "94e38ba2",
   "metadata": {},
   "source": [
    "Set $\\epsilon$ to $10^{-8}$."
   ]
  },
  {
   "cell_type": "code",
   "execution_count": 48,
   "id": "7f8bfb06",
   "metadata": {},
   "outputs": [
    {
     "name": "stdout",
     "output_type": "stream",
     "text": [
      "Found root in 17 iterations\n",
      "Found root in 16 iterations\n",
      "Found root in 7 iterations\n",
      "Found root in 7 iterations\n"
     ]
    }
   ],
   "source": [
    "root_1_1 = newton(f, df, x0_1, epsilon=10**(-8))\n",
    "root_2_1 = newton(f, df, x0_2, epsilon=10**(-8))\n",
    "root_3_1 = newton(f, df, x0_3, epsilon=10**(-8))\n",
    "root_4_1 = newton(f, df, x0_4, epsilon=10**(-8))"
   ]
  },
  {
   "cell_type": "markdown",
   "id": "1e6d5ccd",
   "metadata": {},
   "source": [
    "According to my results, one more iteration is generated to find the root."
   ]
  },
  {
   "cell_type": "code",
   "execution_count": null,
   "id": "753fae11",
   "metadata": {},
   "outputs": [],
   "source": []
  }
 ],
 "metadata": {
  "kernelspec": {
   "display_name": "Python 3 (ipykernel)",
   "language": "python",
   "name": "python3"
  },
  "language_info": {
   "codemirror_mode": {
    "name": "ipython",
    "version": 3
   },
   "file_extension": ".py",
   "mimetype": "text/x-python",
   "name": "python",
   "nbconvert_exporter": "python",
   "pygments_lexer": "ipython3",
   "version": "3.10.2"
  }
 },
 "nbformat": 4,
 "nbformat_minor": 5
}
